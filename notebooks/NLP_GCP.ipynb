{
 "cells": [
  {
   "cell_type": "markdown",
   "metadata": {},
   "source": [
    "# NLP on GCP"
   ]
  },
  {
   "cell_type": "markdown",
   "metadata": {},
   "source": [
    "## Exploring GCP Natural Language API\n",
    "### [Official Docs](https://cloud.google.com/natural-language/docs/analyzing-entities#language-entities-string-gcloud)\n",
    "To use the command-line to explore the API is straightforward\n",
    "\n",
    "```javascript\n",
    "(.recommendations) ➜  recommendations git:(master) ✗ gcloud ml language analyze-entities --content=\"LeBron James plays for the Cleveland Cavaliers.\"\n",
    "{\n",
    "  \"entities\": [\n",
    "    {\n",
    "      \"mentions\": [\n",
    "        {\n",
    "          \"text\": {\n",
    "            \"beginOffset\": 0,\n",
    "            \"content\": \"LeBron James\"\n",
    "          },\n",
    "          \"type\": \"PROPER\"\n",
    "        }\n",
    "      ],\n",
    "      \"metadata\": {\n",
    "        \"mid\": \"/m/01jz6d\",\n",
    "        \"wikipedia_url\": \"https://en.wikipedia.org/wiki/LeBron_James\"\n",
    "      },\n",
    "      \"name\": \"LeBron James\",\n",
    "      \"salience\": 0.8991045,\n",
    "      \"type\": \"PERSON\"\n",
    "    },\n",
    "    {\n",
    "      \"mentions\": [\n",
    "        {\n",
    "          \"text\": {\n",
    "            \"beginOffset\": 27,\n",
    "            \"content\": \"Cleveland Cavaliers\"\n",
    "          },\n",
    "          \"type\": \"PROPER\"\n",
    "        }\n",
    "      ],\n",
    "      \"metadata\": {\n",
    "        \"mid\": \"/m/0jm7n\",\n",
    "        \"wikipedia_url\": \"https://en.wikipedia.org/wiki/Cleveland_Cavaliers\"\n",
    "      },\n",
    "      \"name\": \"Cleveland Cavaliers\",\n",
    "      \"salience\": 0.100895494,\n",
    "      \"type\": \"ORGANIZATION\"\n",
    "    }\n",
    "  ],\n",
    "  \"language\": \"en\"\n",
    "}\n",
    "```\n",
    "\n"
   ]
  },
  {
   "cell_type": "markdown",
   "metadata": {},
   "source": [
    "## Using Python API\n",
    "A second way is to use the Python API:\n",
    "https://cloud.google.com/docs/authentication/getting-started\n",
    "\n",
    "For this notebook, I created a service account, downloaded a key as a JSON file and exported it in the same terminal that I launched the Jupyter Notebook.\n",
    "\n",
    "```bash\n",
    "(.recommendations) ➜  recommendations git:(master) ✗ export GOOGLE_APPLICATION_CREDENTIALS=/Users/noahgift/cloudai-65b4e3299be1.json \n",
    "(.recommendations) ➜  recommendations git:(master) ✗ jupyter notebook \n",
    "```\n",
    "\n"
   ]
  },
  {
   "cell_type": "code",
   "execution_count": 6,
   "metadata": {},
   "outputs": [],
   "source": [
    "# Imports the Google Cloud client library\n",
    "from google.cloud import language\n",
    "from google.cloud.language import enums\n",
    "from google.cloud.language import types\n"
   ]
  },
  {
   "cell_type": "code",
   "execution_count": 7,
   "metadata": {},
   "outputs": [],
   "source": [
    "text = \"LeBron James plays for the Cleveland Cavaliers.\"\n",
    "client = language.LanguageServiceClient()\n",
    "document = types.Document(\n",
    "        content=text,\n",
    "        type=enums.Document.Type.PLAIN_TEXT)\n",
    "entities = client.analyze_entities(document).entities\n"
   ]
  },
  {
   "cell_type": "code",
   "execution_count": 8,
   "metadata": {},
   "outputs": [
    {
     "data": {
      "text/plain": [
       "[name: \"LeBron James\"\n",
       "type: PERSON\n",
       "metadata {\n",
       "  key: \"mid\"\n",
       "  value: \"/m/01jz6d\"\n",
       "}\n",
       "metadata {\n",
       "  key: \"wikipedia_url\"\n",
       "  value: \"https://en.wikipedia.org/wiki/LeBron_James\"\n",
       "}\n",
       "salience: 0.8991044759750366\n",
       "mentions {\n",
       "  text {\n",
       "    content: \"LeBron James\"\n",
       "    begin_offset: -1\n",
       "  }\n",
       "  type: PROPER\n",
       "}\n",
       ", name: \"Cleveland Cavaliers\"\n",
       "type: ORGANIZATION\n",
       "metadata {\n",
       "  key: \"mid\"\n",
       "  value: \"/m/0jm7n\"\n",
       "}\n",
       "metadata {\n",
       "  key: \"wikipedia_url\"\n",
       "  value: \"https://en.wikipedia.org/wiki/Cleveland_Cavaliers\"\n",
       "}\n",
       "salience: 0.10089549422264099\n",
       "mentions {\n",
       "  text {\n",
       "    content: \"Cleveland Cavaliers\"\n",
       "    begin_offset: -1\n",
       "  }\n",
       "  type: PROPER\n",
       "}\n",
       "]"
      ]
     },
     "execution_count": 8,
     "metadata": {},
     "output_type": "execute_result"
    }
   ],
   "source": [
    "entities"
   ]
  },
  {
   "cell_type": "code",
   "execution_count": null,
   "metadata": {},
   "outputs": [],
   "source": []
  }
 ],
 "metadata": {
  "kernelspec": {
   "display_name": "Python 3",
   "language": "python",
   "name": "python3"
  },
  "language_info": {
   "codemirror_mode": {
    "name": "ipython",
    "version": 3
   },
   "file_extension": ".py",
   "mimetype": "text/x-python",
   "name": "python",
   "nbconvert_exporter": "python",
   "pygments_lexer": "ipython3",
   "version": "3.6.4"
  },
  "toc": {
   "nav_menu": {},
   "number_sections": true,
   "sideBar": true,
   "skip_h1_title": false,
   "title_cell": "Table of Contents",
   "title_sidebar": "Contents",
   "toc_cell": false,
   "toc_position": {},
   "toc_section_display": true,
   "toc_window_display": false
  }
 },
 "nbformat": 4,
 "nbformat_minor": 2
}
