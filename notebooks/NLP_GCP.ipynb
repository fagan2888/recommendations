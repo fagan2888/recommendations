{
 "cells": [
  {
   "cell_type": "markdown",
   "metadata": {},
   "source": [
    "# NLP on GCP"
   ]
  },
  {
   "attachments": {},
   "cell_type": "markdown",
   "metadata": {},
   "source": [
    "## Exploring GCP Natural Language API\n",
    "### [Official Docs](https://cloud.google.com/natural-language/docs/analyzing-entities#language-entities-string-gcloud)\n",
    "To use the command-line to explore the API is straightforward\n",
    "\n",
    "```javascript\n",
    "(.recommendations) ➜  recommendations git:(master) ✗ gcloud ml language analyze-entities --content=\"LeBron James plays for the Cleveland Cavaliers.\"\n",
    "{\n",
    "  \"entities\": [\n",
    "    {\n",
    "      \"mentions\": [\n",
    "        {\n",
    "          \"text\": {\n",
    "            \"beginOffset\": 0,\n",
    "            \"content\": \"LeBron James\"\n",
    "          },\n",
    "          \"type\": \"PROPER\"\n",
    "        }\n",
    "      ],\n",
    "      \"metadata\": {\n",
    "        \"mid\": \"/m/01jz6d\",\n",
    "        \"wikipedia_url\": \"https://en.wikipedia.org/wiki/LeBron_James\"\n",
    "      },\n",
    "      \"name\": \"LeBron James\",\n",
    "      \"salience\": 0.8991045,\n",
    "      \"type\": \"PERSON\"\n",
    "    },\n",
    "    {\n",
    "      \"mentions\": [\n",
    "        {\n",
    "          \"text\": {\n",
    "            \"beginOffset\": 27,\n",
    "            \"content\": \"Cleveland Cavaliers\"\n",
    "          },\n",
    "          \"type\": \"PROPER\"\n",
    "        }\n",
    "      ],\n",
    "      \"metadata\": {\n",
    "        \"mid\": \"/m/0jm7n\",\n",
    "        \"wikipedia_url\": \"https://en.wikipedia.org/wiki/Cleveland_Cavaliers\"\n",
    "      },\n",
    "      \"name\": \"Cleveland Cavaliers\",\n",
    "      \"salience\": 0.100895494,\n",
    "      \"type\": \"ORGANIZATION\"\n",
    "    }\n",
    "  ],\n",
    "  \"language\": \"en\"\n",
    "}\n",
    "```\n",
    "\n"
   ]
  },
  {
   "cell_type": "code",
   "execution_count": null,
   "metadata": {},
   "outputs": [],
   "source": []
  }
 ],
 "metadata": {
  "kernelspec": {
   "display_name": "Python 3",
   "language": "python",
   "name": "python3"
  },
  "language_info": {
   "codemirror_mode": {
    "name": "ipython",
    "version": 3
   },
   "file_extension": ".py",
   "mimetype": "text/x-python",
   "name": "python",
   "nbconvert_exporter": "python",
   "pygments_lexer": "ipython3",
   "version": "3.6.4"
  },
  "toc": {
   "nav_menu": {},
   "number_sections": true,
   "sideBar": true,
   "skip_h1_title": false,
   "title_cell": "Table of Contents",
   "title_sidebar": "Contents",
   "toc_cell": false,
   "toc_position": {},
   "toc_section_display": true,
   "toc_window_display": false
  }
 },
 "nbformat": 4,
 "nbformat_minor": 2
}
