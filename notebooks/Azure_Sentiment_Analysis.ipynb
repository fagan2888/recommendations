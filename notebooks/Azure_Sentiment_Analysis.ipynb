{
 "cells": [
  {
   "cell_type": "markdown",
   "metadata": {},
   "source": [
    "# Azure Sentiment Analysis on Movie Reviews"
   ]
  },
  {
   "cell_type": "markdown",
   "metadata": {},
   "source": [
    "## Imports"
   ]
  },
  {
   "cell_type": "code",
   "execution_count": 34,
   "metadata": {},
   "outputs": [],
   "source": [
    "import requests\n",
    "import os\n",
    "import pandas as pd\n",
    "import seaborn as sns\n",
    "import matplotlib as plt"
   ]
  },
  {
   "cell_type": "markdown",
   "metadata": {},
   "source": [
    "## API Keys for Azure Cognitive Services\n",
    "(API Key was exported) \n",
    "\n",
    "```export AZURE_API_KEY=\"xxfxxxxxxx\"```"
   ]
  },
  {
   "cell_type": "code",
   "execution_count": 2,
   "metadata": {},
   "outputs": [],
   "source": [
    "subscription_key=os.environ.get(\"AZURE_API_KEY\")"
   ]
  },
  {
   "cell_type": "code",
   "execution_count": 20,
   "metadata": {},
   "outputs": [],
   "source": [
    "text_analytics_base_url =\\\n",
    "\"https://eastus.api.cognitive.microsoft.com/text/analytics/v2.0/\""
   ]
  },
  {
   "cell_type": "markdown",
   "metadata": {},
   "source": [
    "## Analyze Sentiment From Cornell Computer Science Data Set\n",
    "http://www.cs.cornell.edu/people/pabo/movie-review-data/"
   ]
  },
  {
   "cell_type": "markdown",
   "metadata": {},
   "source": [
    "## Format Data Set For API"
   ]
  },
  {
   "cell_type": "code",
   "execution_count": 21,
   "metadata": {},
   "outputs": [
    {
     "data": {
      "text/plain": [
       "{'documents': [{'id': 1,\n",
       "   'language': 'en',\n",
       "   'text': 'plot : two teen couples go to a church party , drink and then drive . \\n'},\n",
       "  {'id': 2, 'language': 'en', 'text': 'they get into an accident . \\n'},\n",
       "  {'id': 3,\n",
       "   'language': 'en',\n",
       "   'text': 'one of the guys dies , but his girlfriend continues to see him in her life , and has nightmares . \\n'},\n",
       "  {'id': 4, 'language': 'en', 'text': \"what's the deal ? \\n\"},\n",
       "  {'id': 5,\n",
       "   'language': 'en',\n",
       "   'text': 'watch the movie and \" sorta \" find out . . . \\n'},\n",
       "  {'id': 6,\n",
       "   'language': 'en',\n",
       "   'text': 'critique : a mind-fuck movie for the teen generation that touches on a very cool idea , but presents it in a very bad package . \\n'},\n",
       "  {'id': 7,\n",
       "   'language': 'en',\n",
       "   'text': \"which is what makes this review an even harder one to write , since i generally applaud films which attempt to break the mold , mess with your head and such ( lost highway & memento ) , but there are good and bad ways of making all types of films , and these folks just didn't snag this one correctly . \\n\"},\n",
       "  {'id': 8,\n",
       "   'language': 'en',\n",
       "   'text': 'they seem to have taken this pretty neat concept , but executed it terribly . \\n'},\n",
       "  {'id': 9,\n",
       "   'language': 'en',\n",
       "   'text': 'so what are the problems with the movie ? \\n'},\n",
       "  {'id': 10,\n",
       "   'language': 'en',\n",
       "   'text': \"well , its main problem is that it's simply too jumbled . \\n\"},\n",
       "  {'id': 11,\n",
       "   'language': 'en',\n",
       "   'text': 'it starts off \" normal \" but then downshifts into this \" fantasy \" world in which you , as an audience member , have no idea what\\'s going on . \\n'},\n",
       "  {'id': 12,\n",
       "   'language': 'en',\n",
       "   'text': 'there are dreams , there are characters coming back from the dead , there are others who look like the dead , there are strange apparitions , there are disappearances , there are a looooot of chase scenes , there are tons of weird things that happen , and most of it is simply not explained . \\n'},\n",
       "  {'id': 13,\n",
       "   'language': 'en',\n",
       "   'text': \"now i personally don't mind trying to unravel a film every now and then , but when all it does is give me the same clue over and over again , i get kind of fed up after a while , which is this film's biggest problem . \\n\"},\n",
       "  {'id': 14,\n",
       "   'language': 'en',\n",
       "   'text': \"it's obviously got this big secret to hide , but it seems to want to hide it completely until its final five minutes . \\n\"},\n",
       "  {'id': 15,\n",
       "   'language': 'en',\n",
       "   'text': 'and do they make things entertaining , thrilling or even engaging , in the meantime ? \\n'},\n",
       "  {'id': 16, 'language': 'en', 'text': 'not really . \\n'},\n",
       "  {'id': 17,\n",
       "   'language': 'en',\n",
       "   'text': \"the sad part is that the arrow and i both dig on flicks like this , so we actually figured most of it out by the half-way point , so all of the strangeness after that did start to make a little bit of sense , but it still didn't the make the film all that more entertaining . \\n\"},\n",
       "  {'id': 18,\n",
       "   'language': 'en',\n",
       "   'text': 'i guess the bottom line with movies like this is that you should always make sure that the audience is \" into it \" even before they are given the secret password to enter your world of understanding . \\n'},\n",
       "  {'id': 19,\n",
       "   'language': 'en',\n",
       "   'text': 'i mean , showing melissa sagemiller running away from visions for about 20 minutes throughout the movie is just plain lazy ! ! \\n'},\n",
       "  {'id': 20, 'language': 'en', 'text': 'okay , we get it . . . there \\n'},\n",
       "  {'id': 21,\n",
       "   'language': 'en',\n",
       "   'text': \"are people chasing her and we don't know who they are . \\n\"},\n",
       "  {'id': 22,\n",
       "   'language': 'en',\n",
       "   'text': 'do we really need to see it over and over again ? \\n'},\n",
       "  {'id': 23,\n",
       "   'language': 'en',\n",
       "   'text': 'how about giving us different scenes offering further insight into all of the strangeness going down in the movie ? \\n'},\n",
       "  {'id': 24,\n",
       "   'language': 'en',\n",
       "   'text': 'apparently , the studio took this film away from its director and chopped it up themselves , and it shows . \\n'},\n",
       "  {'id': 25,\n",
       "   'language': 'en',\n",
       "   'text': 'there might\\'ve been a pretty decent teen mind-fuck movie in here somewhere , but i guess \" the suits \" decided that turning it into a music video with little edge , would make more sense . \\n'},\n",
       "  {'id': 26,\n",
       "   'language': 'en',\n",
       "   'text': 'the actors are pretty good for the most part , although wes bentley just seemed to be playing the exact same character that he did in american beauty , only in a new neighborhood . \\n'},\n",
       "  {'id': 27,\n",
       "   'language': 'en',\n",
       "   'text': \"but my biggest kudos go out to sagemiller , who holds her own throughout the entire film , and actually has you feeling her character's unraveling . \\n\"},\n",
       "  {'id': 28,\n",
       "   'language': 'en',\n",
       "   'text': \"overall , the film doesn't stick because it doesn't entertain , it's confusing , it rarely excites and it feels pretty redundant for most of its runtime , despite a pretty cool ending and explanation to all of the craziness that came before it . \\n\"},\n",
       "  {'id': 29,\n",
       "   'language': 'en',\n",
       "   'text': \"oh , and by the way , this is not a horror or teen slasher flick . . . it's \\n\"},\n",
       "  {'id': 30,\n",
       "   'language': 'en',\n",
       "   'text': 'just packaged to look that way because someone is apparently assuming that the genre is still hot with the kids . \\n'},\n",
       "  {'id': 31,\n",
       "   'language': 'en',\n",
       "   'text': 'it also wrapped production two years ago and has been sitting on the shelves ever since . \\n'},\n",
       "  {'id': 32, 'language': 'en', 'text': 'whatever . . . skip \\n'},\n",
       "  {'id': 33, 'language': 'en', 'text': 'it ! \\n'},\n",
       "  {'id': 34, 'language': 'en', 'text': \"where's joblo coming from ? \\n\"},\n",
       "  {'id': 35,\n",
       "   'language': 'en',\n",
       "   'text': 'a nightmare of elm street 3 ( 7/10 ) - blair witch 2 ( 7/10 ) - the crow ( 9/10 ) - the crow : salvation ( 4/10 ) - lost highway ( 10/10 ) - memento ( 10/10 ) - the others ( 9/10 ) - stir of echoes ( 8/10 ) \\n'}]}"
      ]
     },
     "execution_count": 21,
     "metadata": {},
     "output_type": "execute_result"
    }
   ],
   "source": [
    "documents = {\"documents\":[]}\n",
    "path = \"../data/review_polarity/txt_sentoken/neg/cv000_29416.txt\"\n",
    "doc1 = open(path, \"r\")\n",
    "output = doc1.readlines()\n",
    "count = 0\n",
    "for line in output:\n",
    "    count +=1\n",
    "    record = {\"id\": count, \"language\": \"en\", \"text\": line}\n",
    "    documents[\"documents\"].append(record)\n",
    "\n",
    "#print it out\n",
    "documents\n"
   ]
  },
  {
   "cell_type": "markdown",
   "metadata": {},
   "source": [
    "## Sentiment Analysis Scoring API Call"
   ]
  },
  {
   "cell_type": "code",
   "execution_count": 22,
   "metadata": {},
   "outputs": [
    {
     "data": {
      "text/plain": [
       "{'documents': [{'id': '1', 'score': 0.5},\n",
       "  {'id': '2', 'score': 0.13049307465553284},\n",
       "  {'id': '3', 'score': 0.09667149186134338},\n",
       "  {'id': '4', 'score': 0.8442018032073975},\n",
       "  {'id': '5', 'score': 0.808459997177124},\n",
       "  {'id': '6', 'score': 0.20456644892692566},\n",
       "  {'id': '7', 'score': 0.14024576544761658},\n",
       "  {'id': '8', 'score': 0.17604517936706543},\n",
       "  {'id': '9', 'score': 0.10334345698356628},\n",
       "  {'id': '10', 'score': 0.13980722427368164},\n",
       "  {'id': '11', 'score': 0.7988420724868774},\n",
       "  {'id': '12', 'score': 0.03757387399673462},\n",
       "  {'id': '13', 'score': 0.161460280418396},\n",
       "  {'id': '14', 'score': 0.21826156973838806},\n",
       "  {'id': '15', 'score': 0.9485616087913513},\n",
       "  {'id': '16', 'score': 0.15699779987335205},\n",
       "  {'id': '17', 'score': 0.8121253252029419},\n",
       "  {'id': '18', 'score': 0.8800938129425049},\n",
       "  {'id': '19', 'score': 0.22605016827583313},\n",
       "  {'id': '20', 'score': 0.867438793182373},\n",
       "  {'id': '21', 'score': 0.23370343446731567},\n",
       "  {'id': '22', 'score': 0.19247117638587952},\n",
       "  {'id': '23', 'score': 0.8382886648178101},\n",
       "  {'id': '24', 'score': 0.5},\n",
       "  {'id': '25', 'score': 0.846979558467865},\n",
       "  {'id': '26', 'score': 0.879838228225708},\n",
       "  {'id': '27', 'score': 0.12426283955574036},\n",
       "  {'id': '28', 'score': 0.08311045169830322},\n",
       "  {'id': '29', 'score': 0.7216441631317139},\n",
       "  {'id': '30', 'score': 0.5},\n",
       "  {'id': '31', 'score': 0.21332654356956482},\n",
       "  {'id': '32', 'score': 0.7783764600753784},\n",
       "  {'id': '33', 'score': 0.20460999011993408},\n",
       "  {'id': '34', 'score': 0.5},\n",
       "  {'id': '35', 'score': 0.5}],\n",
       " 'errors': []}"
      ]
     },
     "execution_count": 22,
     "metadata": {},
     "output_type": "execute_result"
    }
   ],
   "source": [
    "sentiment_api_url = text_analytics_base_url + \"sentiment\"\n",
    "headers   = {\"Ocp-Apim-Subscription-Key\": subscription_key}\n",
    "response  = requests.post(sentiment_api_url, headers=headers, json=documents)\n",
    "sentiments = response.json()\n",
    "sentiments"
   ]
  },
  {
   "cell_type": "code",
   "execution_count": 24,
   "metadata": {},
   "outputs": [],
   "source": [
    "df = pd.DataFrame(sentiments['documents'])"
   ]
  },
  {
   "cell_type": "code",
   "execution_count": 30,
   "metadata": {},
   "outputs": [
    {
     "data": {
      "text/html": [
       "<div>\n",
       "<style scoped>\n",
       "    .dataframe tbody tr th:only-of-type {\n",
       "        vertical-align: middle;\n",
       "    }\n",
       "\n",
       "    .dataframe tbody tr th {\n",
       "        vertical-align: top;\n",
       "    }\n",
       "\n",
       "    .dataframe thead th {\n",
       "        text-align: right;\n",
       "    }\n",
       "</style>\n",
       "<table border=\"1\" class=\"dataframe\">\n",
       "  <thead>\n",
       "    <tr style=\"text-align: right;\">\n",
       "      <th></th>\n",
       "      <th>score</th>\n",
       "    </tr>\n",
       "  </thead>\n",
       "  <tbody>\n",
       "    <tr>\n",
       "      <th>count</th>\n",
       "      <td>35.000000</td>\n",
       "    </tr>\n",
       "    <tr>\n",
       "      <th>mean</th>\n",
       "      <td>0.439081</td>\n",
       "    </tr>\n",
       "    <tr>\n",
       "      <th>std</th>\n",
       "      <td>0.316936</td>\n",
       "    </tr>\n",
       "    <tr>\n",
       "      <th>min</th>\n",
       "      <td>0.037574</td>\n",
       "    </tr>\n",
       "    <tr>\n",
       "      <th>25%</th>\n",
       "      <td>0.159229</td>\n",
       "    </tr>\n",
       "    <tr>\n",
       "      <th>50%</th>\n",
       "      <td>0.233703</td>\n",
       "    </tr>\n",
       "    <tr>\n",
       "      <th>75%</th>\n",
       "      <td>0.803651</td>\n",
       "    </tr>\n",
       "    <tr>\n",
       "      <th>max</th>\n",
       "      <td>0.948562</td>\n",
       "    </tr>\n",
       "  </tbody>\n",
       "</table>\n",
       "</div>"
      ],
      "text/plain": [
       "           score\n",
       "count  35.000000\n",
       "mean    0.439081\n",
       "std     0.316936\n",
       "min     0.037574\n",
       "25%     0.159229\n",
       "50%     0.233703\n",
       "75%     0.803651\n",
       "max     0.948562"
      ]
     },
     "execution_count": 30,
     "metadata": {},
     "output_type": "execute_result"
    }
   ],
   "source": [
    "df.head()\n",
    "df.describe()"
   ]
  },
  {
   "cell_type": "code",
   "execution_count": 37,
   "metadata": {},
   "outputs": [
    {
     "data": {
      "text/plain": [
       "<matplotlib.axes._subplots.AxesSubplot at 0x11ab9e780>"
      ]
     },
     "execution_count": 37,
     "metadata": {},
     "output_type": "execute_result"
    },
    {
     "data": {
      "image/png": "[encoded data removed]",
      "text/plain": [
       "<matplotlib.figure.Figure at 0x11aab7f28>"
      ]
     },
     "metadata": {},
     "output_type": "display_data"
    }
   ],
   "source": [
    "sns.kdeplot(df['score'], shade=True)"
   ]
  },
  {
   "cell_type": "code",
   "execution_count": null,
   "metadata": {},
   "outputs": [],
   "source": []
  }
 ],
 "metadata": {
  "kernelspec": {
   "display_name": "Python 3",
   "language": "python",
   "name": "python3"
  },
  "language_info": {
   "codemirror_mode": {
    "name": "ipython",
    "version": 3
   },
   "file_extension": ".py",
   "mimetype": "text/x-python",
   "name": "python",
   "nbconvert_exporter": "python",
   "pygments_lexer": "ipython3",
   "version": "3.6.4"
  },
  "toc": {
   "nav_menu": {},
   "number_sections": true,
   "sideBar": true,
   "skip_h1_title": false,
   "title_cell": "Table of Contents",
   "title_sidebar": "Contents",
   "toc_cell": false,
   "toc_position": {},
   "toc_section_display": true,
   "toc_window_display": false
  }
 },
 "nbformat": 4,
 "nbformat_minor": 2
}
